{
 "cells": [
  {
   "cell_type": "code",
   "execution_count": 1,
   "id": "95005980",
   "metadata": {},
   "outputs": [],
   "source": [
    "import numpy as np\n",
    "import pandas as pd\n",
    "import seaborn as sns"
   ]
  },
  {
   "cell_type": "code",
   "execution_count": 3,
   "id": "59ec9319",
   "metadata": {},
   "outputs": [],
   "source": [
    "# Загружаем Датасет\n",
    "df = pd.read_json('')"
   ]
  },
  {
   "cell_type": "code",
   "execution_count": 4,
   "id": "8bc533c3",
   "metadata": {},
   "outputs": [
    {
     "data": {
      "text/html": [
       "<div>\n",
       "<style scoped>\n",
       "    .dataframe tbody tr th:only-of-type {\n",
       "        vertical-align: middle;\n",
       "    }\n",
       "\n",
       "    .dataframe tbody tr th {\n",
       "        vertical-align: top;\n",
       "    }\n",
       "\n",
       "    .dataframe thead th {\n",
       "        text-align: right;\n",
       "    }\n",
       "</style>\n",
       "<table border=\"1\" class=\"dataframe\">\n",
       "  <thead>\n",
       "    <tr style=\"text-align: right;\">\n",
       "      <th></th>\n",
       "      <th>id</th>\n",
       "      <th>cuisine</th>\n",
       "      <th>ingredients</th>\n",
       "    </tr>\n",
       "  </thead>\n",
       "  <tbody>\n",
       "    <tr>\n",
       "      <th>0</th>\n",
       "      <td>10259</td>\n",
       "      <td>greek</td>\n",
       "      <td>[romaine lettuce, black olives, grape tomatoes...</td>\n",
       "    </tr>\n",
       "    <tr>\n",
       "      <th>1</th>\n",
       "      <td>25693</td>\n",
       "      <td>southern_us</td>\n",
       "      <td>[plain flour, ground pepper, salt, tomatoes, g...</td>\n",
       "    </tr>\n",
       "    <tr>\n",
       "      <th>2</th>\n",
       "      <td>20130</td>\n",
       "      <td>filipino</td>\n",
       "      <td>[eggs, pepper, salt, mayonaise, cooking oil, g...</td>\n",
       "    </tr>\n",
       "    <tr>\n",
       "      <th>3</th>\n",
       "      <td>22213</td>\n",
       "      <td>indian</td>\n",
       "      <td>[water, vegetable oil, wheat, salt]</td>\n",
       "    </tr>\n",
       "    <tr>\n",
       "      <th>4</th>\n",
       "      <td>13162</td>\n",
       "      <td>indian</td>\n",
       "      <td>[black pepper, shallots, cornflour, cayenne pe...</td>\n",
       "    </tr>\n",
       "    <tr>\n",
       "      <th>5</th>\n",
       "      <td>6602</td>\n",
       "      <td>jamaican</td>\n",
       "      <td>[plain flour, sugar, butter, eggs, fresh ginge...</td>\n",
       "    </tr>\n",
       "    <tr>\n",
       "      <th>6</th>\n",
       "      <td>42779</td>\n",
       "      <td>spanish</td>\n",
       "      <td>[olive oil, salt, medium shrimp, pepper, garli...</td>\n",
       "    </tr>\n",
       "    <tr>\n",
       "      <th>7</th>\n",
       "      <td>3735</td>\n",
       "      <td>italian</td>\n",
       "      <td>[sugar, pistachio nuts, white almond bark, flo...</td>\n",
       "    </tr>\n",
       "    <tr>\n",
       "      <th>8</th>\n",
       "      <td>16903</td>\n",
       "      <td>mexican</td>\n",
       "      <td>[olive oil, purple onion, fresh pineapple, por...</td>\n",
       "    </tr>\n",
       "    <tr>\n",
       "      <th>9</th>\n",
       "      <td>12734</td>\n",
       "      <td>italian</td>\n",
       "      <td>[chopped tomatoes, fresh basil, garlic, extra-...</td>\n",
       "    </tr>\n",
       "  </tbody>\n",
       "</table>\n",
       "</div>"
      ],
      "text/plain": [
       "      id      cuisine                                        ingredients\n",
       "0  10259        greek  [romaine lettuce, black olives, grape tomatoes...\n",
       "1  25693  southern_us  [plain flour, ground pepper, salt, tomatoes, g...\n",
       "2  20130     filipino  [eggs, pepper, salt, mayonaise, cooking oil, g...\n",
       "3  22213       indian                [water, vegetable oil, wheat, salt]\n",
       "4  13162       indian  [black pepper, shallots, cornflour, cayenne pe...\n",
       "5   6602     jamaican  [plain flour, sugar, butter, eggs, fresh ginge...\n",
       "6  42779      spanish  [olive oil, salt, medium shrimp, pepper, garli...\n",
       "7   3735      italian  [sugar, pistachio nuts, white almond bark, flo...\n",
       "8  16903      mexican  [olive oil, purple onion, fresh pineapple, por...\n",
       "9  12734      italian  [chopped tomatoes, fresh basil, garlic, extra-..."
      ]
     },
     "execution_count": 4,
     "metadata": {},
     "output_type": "execute_result"
    }
   ],
   "source": [
    "df.head(10)"
   ]
  },
  {
   "cell_type": "code",
   "execution_count": 8,
   "id": "5b019ca5",
   "metadata": {},
   "outputs": [
    {
     "data": {
      "text/plain": [
       "<Axes: xlabel='count', ylabel='cuisine'>"
      ]
     },
     "execution_count": 8,
     "metadata": {},
     "output_type": "execute_result"
    },
    {
     "data": {
      "image/png": "[encoded data removed]",
      "text/plain": [
       "<Figure size 640x480 with 1 Axes>"
      ]
     },
     "metadata": {},
     "output_type": "display_data"
    }
   ],
   "source": [
    "# Смотрим на сбалансированность выборки\n",
    "sns.set_style(\"whitegrid\")\n",
    "sns.countplot(data=df, y='cuisine')"
   ]
  },
  {
   "cell_type": "code",
   "execution_count": 9,
   "id": "9a4d1e17",
   "metadata": {
    "scrolled": true
   },
   "outputs": [
    {
     "name": "stdout",
     "output_type": "stream",
     "text": [
      "Collecting textblob\n",
      "  Downloading textblob-0.18.0.post0-py3-none-any.whl (626 kB)\n",
      "     ------------------------------------ 626.3/626.3 kB 225.3 kB/s eta 0:00:00\n",
      "Collecting nltk>=3.8\n",
      "  Downloading nltk-3.8.1-py3-none-any.whl (1.5 MB)\n",
      "     ---------------------------------------- 1.5/1.5 MB 204.3 kB/s eta 0:00:00\n",
      "Requirement already satisfied: tqdm in d:\\anaconda\\lib\\site-packages (from nltk>=3.8->textblob) (4.64.1)\n",
      "Requirement already satisfied: regex>=2021.8.3 in d:\\anaconda\\lib\\site-packages (from nltk>=3.8->textblob) (2022.7.9)\n",
      "Requirement already satisfied: click in d:\\anaconda\\lib\\site-packages (from nltk>=3.8->textblob) (8.0.4)\n",
      "Requirement already satisfied: joblib in d:\\anaconda\\lib\\site-packages (from nltk>=3.8->textblob) (1.1.1)\n",
      "Requirement already satisfied: colorama in d:\\anaconda\\lib\\site-packages (from click->nltk>=3.8->textblob) (0.4.6)\n",
      "Installing collected packages: nltk, textblob\n",
      "  Attempting uninstall: nltk\n",
      "    Found existing installation: nltk 3.7\n",
      "    Uninstalling nltk-3.7:\n",
      "      Successfully uninstalled nltk-3.7\n",
      "Successfully installed nltk-3.8.1 textblob-0.18.0.post0\n"
     ]
    },
    {
     "name": "stderr",
     "output_type": "stream",
     "text": [
      "[nltk_data] Downloading package punkt to\n",
      "[nltk_data]     C:\\Users\\KNS\\AppData\\Roaming\\nltk_data...\n",
      "[nltk_data]   Unzipping tokenizers\\punkt.zip.\n",
      "[nltk_data] Downloading package averaged_perceptron_tagger to\n",
      "[nltk_data]     C:\\Users\\KNS\\AppData\\Roaming\\nltk_data...\n",
      "[nltk_data]   Unzipping taggers\\averaged_perceptron_tagger.zip.\n",
      "[nltk_data] Downloading package wordnet to\n",
      "[nltk_data]     C:\\Users\\KNS\\AppData\\Roaming\\nltk_data...\n",
      "[nltk_data] Downloading package omw-1.4 to\n",
      "[nltk_data]     C:\\Users\\KNS\\AppData\\Roaming\\nltk_data...\n"
     ]
    }
   ],
   "source": [
    "!pip install -U textblob\n",
    "from textblob import TextBlob\n",
    "import nltk\n",
    "nltk.download('punkt')\n",
    "nltk.download('averaged_perceptron_tagger')\n",
    "nltk.download('wordnet')\n",
    "nltk.download('omw-1.4')\n",
    "from textblob import Word\n",
    "import re"
   ]
  },
  {
   "cell_type": "code",
   "execution_count": 14,
   "id": "586b19ab",
   "metadata": {},
   "outputs": [],
   "source": [
    "# Напишем функцию для чистки каждого массива ингредиентов\n",
    "\n",
    "def text_to_normal(text):\n",
    "    text = np.array(text)\n",
    "    text_str = [] # новый массив ингредиентов для дальнейшей более удобной работы\n",
    "    \n",
    "    for t in text:\n",
    "        elements_in_text = t.split(' ') # Удаляем пробелы\n",
    "        for e in elements_in_text:\n",
    "            text_str.append(e.lower()) # приводим к нижнему регистру и заполняем новый массив\n",
    "    \n",
    "    for i in range(len(text_str)):\n",
    "        text_str[i] = re.sub(r'[^\\w\\s]', '', text_str[i]) # задаём шаблон и применяем его для удаления ненужных символов в строке\n",
    "    \n",
    "    text_str = [i for i in text_str if i] # удаляем пустые '' в строке\n",
    "    \n",
    "    TEXT_NORMAL = []\n",
    "    \n",
    "    for t in text_str:\n",
    "        B_O = TextBlob(t).tags[-1] # Определяем, какой частью речи является каждое слово\n",
    "        if B_O[-1] == 'NN' or B_O[-1] == 'NNS' or B_O[-1] == 'NNPS' or B_O[-1] == 'JJ':\n",
    "            # если существительное или имя собственное в любом числе или прилагательное, приводим к единственному значению ( нормализуем )\n",
    "            w = Word(t).lemmatize()\n",
    "            TEXT_NORMAL.append(str(w))\n",
    "    \n",
    "    return TEXT_NORMAL"
   ]
  },
  {
   "cell_type": "code",
   "execution_count": 15,
   "id": "301da9c0",
   "metadata": {},
   "outputs": [],
   "source": [
    "# Проводим чистку для каждого списка ингредиентов\n",
    "df['ingredients']=df['ingredients'].apply(lambda x:text_to_normal(x))"
   ]
  },
  {
   "cell_type": "code",
   "execution_count": 16,
   "id": "29961d3a",
   "metadata": {},
   "outputs": [],
   "source": [
    "# сохраним на всякий\n",
    "df.to_json('datatata.json')"
   ]
  },
  {
   "cell_type": "code",
   "execution_count": 98,
   "id": "1c745b0c",
   "metadata": {},
   "outputs": [],
   "source": [
    "def array_modify_string(array):\n",
    "    return ' '.join(array)"
   ]
  },
  {
   "cell_type": "code",
   "execution_count": 99,
   "id": "1f236557",
   "metadata": {},
   "outputs": [],
   "source": [
    "# Для дальнейшей векторизации нужен чистый текст\n",
    "df['ingredients'] = df['ingredients'].map(lambda x: array_modify_string(x))"
   ]
  },
  {
   "cell_type": "code",
   "execution_count": 100,
   "id": "4e3d6cfe",
   "metadata": {},
   "outputs": [],
   "source": [
    "X = df['ingredients']\n",
    "Y = df['cuisine']"
   ]
  },
  {
   "cell_type": "code",
   "execution_count": 101,
   "id": "911baf64",
   "metadata": {},
   "outputs": [],
   "source": [
    "import sklearn\n",
    "from sklearn.model_selection import train_test_split\n",
    "from sklearn.ensemble import BaggingClassifier\n",
    "from sklearn.feature_extraction.text import TfidfVectorizer\n",
    "from sklearn.tree import DecisionTreeClassifier\n",
    "from sklearn.metrics import accuracy_score"
   ]
  },
  {
   "cell_type": "code",
   "execution_count": 102,
   "id": "41cec437",
   "metadata": {},
   "outputs": [],
   "source": [
    "import imblearn\n",
    "from imblearn.over_sampling import ADASYN"
   ]
  },
  {
   "cell_type": "code",
   "execution_count": 103,
   "id": "7e451b7d",
   "metadata": {},
   "outputs": [],
   "source": [
    "from imblearn.over_sampling import RandomOverSampler"
   ]
  },
  {
   "cell_type": "code",
   "execution_count": 105,
   "id": "eaaaed95",
   "metadata": {},
   "outputs": [],
   "source": [
    "# Разделяем на трейновую и тестовую выборку\n",
    "X_train, X_test, y_train, y_test = train_test_split(X, Y, test_size=0.30)\n",
    "\n",
    "# Вводим векторизатор текста, импортированный ранее\n",
    "vectorizer = TfidfVectorizer()\n",
    "vectorizer.fit(X_train)\n",
    "\n",
    "# Модифицируем признаковые переменные с помощью векторизатора\n",
    "X_train_vec = vectorizer.transform(X_train)\n",
    "X_train_vec = X_train_vec.toarray()\n",
    "\n",
    "X_test_vec = vectorizer.transform(X_test)\n",
    "X_test_vec = X_test_vec.toarray()\n",
    "\n",
    "# Устраним недостаток данных с помощью семплирования на основе ADASYN\n",
    "X_train_over_ada, y_train_over_ada = ADASYN(random_state=50).fit_resample(X_train_vec, y_train)\n",
    "\n",
    "# Устраним недостаток данных с помощью семплирования на основе RandomOverSample\n",
    "X_train_over_ros, Y_train_over_ros = RandomOverSampler().fit_resample(X_train_vec, y_train)"
   ]
  },
  {
   "cell_type": "code",
   "execution_count": 106,
   "id": "a13e11b1",
   "metadata": {},
   "outputs": [
    {
     "name": "stdout",
     "output_type": "stream",
     "text": [
      "Accuracy ( BaggingClassifier + ADASYN ):  0.3299254169110869\n"
     ]
    }
   ],
   "source": [
    "# Тренируем модельку и получаем результат\n",
    "BC = BaggingClassifier(DecisionTreeClassifier(criterion='gini', max_depth=10), n_estimators=10)\n",
    "BC.fit(X_train_over_ada, y_train_over_ada)\n",
    "y_preds = BC.predict(X_test_vec)\n",
    "score = accuracy_score(y_test,y_preds)\n",
    "print(\"Accuracy ( BaggingClassifier + ADASYN ): \",score)"
   ]
  },
  {
   "cell_type": "code",
   "execution_count": 108,
   "id": "219767ae",
   "metadata": {},
   "outputs": [
    {
     "name": "stdout",
     "output_type": "stream",
     "text": [
      "Accuracy ( BaggingClassifier + RandomOverSample ):  0.41515126120841367\n"
     ]
    }
   ],
   "source": [
    "# Тренируем модельку и получаем результат\n",
    "BC = BaggingClassifier(DecisionTreeClassifier(criterion='gini', max_depth=10), n_estimators=10)\n",
    "BC.fit(X_train_over_ros, Y_train_over_ros)\n",
    "y_preds = BC.predict(X_test_vec)\n",
    "score = accuracy_score(y_test,y_preds)\n",
    "print(\"Accuracy ( BaggingClassifier + RandomOverSample ): \",score)"
   ]
  },
  {
   "cell_type": "code",
   "execution_count": 109,
   "id": "4e81022b",
   "metadata": {},
   "outputs": [],
   "source": [
    "import xgboost as xgb\n",
    "from sklearn.preprocessing import LabelEncoder"
   ]
  },
  {
   "cell_type": "code",
   "execution_count": 110,
   "id": "b0936079",
   "metadata": {},
   "outputs": [],
   "source": [
    "# Кодируем таргеты с помощью LabelEncoder\n",
    "le = LabelEncoder()\n",
    "le.fit(Y)\n",
    "Y_for_boost = le.transform(Y)"
   ]
  },
  {
   "cell_type": "code",
   "execution_count": 111,
   "id": "d06440a5",
   "metadata": {},
   "outputs": [],
   "source": [
    "# Делим данные\n",
    "X_train_for_boost, X_test_for_boost, y_train_for_boost, y_test_for_boost = train_test_split(X, Y_for_boost, test_size=0.20)"
   ]
  },
  {
   "cell_type": "code",
   "execution_count": 112,
   "id": "0da3f48e",
   "metadata": {},
   "outputs": [],
   "source": [
    "# Действуем по вышеописанному алгоритму\n",
    "vectorizer.fit(X_train_for_boost)\n",
    "\n",
    "X_train_vec_for_boost = vectorizer.transform(X_train_for_boost)\n",
    "X_train_vec_for_boost = X_train_vec_for_boost.toarray()\n",
    "\n",
    "X_test_vec_for_boost = vectorizer.transform(X_test_for_boost)\n",
    "X_test_vec_for_boost = X_test_vec_for_boost.toarray()\n",
    "\n",
    "# Anasyn\n",
    "X_train_over_for_boost_ada, y_train_over_for_boost_ada = ADASYN(random_state=50).fit_resample(X_train_vec_for_boost, y_train_for_boost)\n",
    "\n",
    "# RandomOverSample\n",
    "X_train_over_for_boost_ros, y_train_over_for_boost_ros = RandomOverSampler().fit_resample(X_train_vec_for_boost, y_train_for_boost)\n",
    "\n",
    "# Вводим модельку бустинга\n",
    "XGB_model = xgb.XGBClassifier(n_estimators=15, objective='multi:softprob', num_class=20, random_state=50)\n"
   ]
  },
  {
   "cell_type": "code",
   "execution_count": 120,
   "id": "c6b7d913",
   "metadata": {},
   "outputs": [
    {
     "name": "stdout",
     "output_type": "stream",
     "text": [
      "Accuracy ( XGB + ADASYN ):  0.7333752357008171\n"
     ]
    }
   ],
   "source": [
    "# Тренируем и предсказываем\n",
    "XGB_model.fit(X_train_over_for_boost_ada, y_train_over_for_boost_ada)\n",
    "y_preds_boost = XGB_model.predict(X_test_vec_for_boost)\n",
    "score = accuracy_score(y_test_for_boost,y_preds_boost)\n",
    "print(\"Accuracy ( XGB + ADASYN ): \",score)"
   ]
  },
  {
   "cell_type": "code",
   "execution_count": 121,
   "id": "c10d3354",
   "metadata": {},
   "outputs": [
    {
     "name": "stdout",
     "output_type": "stream",
     "text": [
      "Accuracy ( XGB + RandomOverSample ):  0.7182903834066625\n"
     ]
    }
   ],
   "source": [
    "# Тренируем и предсказываем\n",
    "XGB_model.fit(X_train_over_for_boost_ros, y_train_over_for_boost_ros)\n",
    "y_preds_boost = XGB_model.predict(X_test_vec_for_boost)\n",
    "score = accuracy_score(y_test_for_boost,y_preds_boost)\n",
    "print(\"Accuracy ( XGB + RandomOverSample ): \",score)"
   ]
  },
  {
   "cell_type": "code",
   "execution_count": 114,
   "id": "7f99d31b",
   "metadata": {},
   "outputs": [],
   "source": [
    "from sklearn.neighbors import KNeighborsClassifier"
   ]
  },
  {
   "cell_type": "code",
   "execution_count": 115,
   "id": "2af0ab3e",
   "metadata": {},
   "outputs": [],
   "source": [
    "# Делим данные\n",
    "X_train_for_knn, X_test_for_knn, y_train_for_knn, y_test_for_knn = train_test_split(X, Y, test_size=0.20)\n",
    "\n",
    "# Действуем по вышеописанному алгоритму\n",
    "vectorizer.fit(X_train_for_knn)\n",
    "\n",
    "X_train_vec_for_knn = vectorizer.transform(X_train_for_knn)\n",
    "X_train_vec_for_knn = X_train_vec_for_knn.toarray()\n",
    "\n",
    "X_test_vec_for_knn = vectorizer.transform(X_test_for_knn)\n",
    "X_test_vec_for_knn = X_test_vec_for_knn.toarray()\n",
    "\n",
    "# Anasyn\n",
    "X_train_over_for_knn_ada, y_train_over_for_knn_ada = ADASYN(random_state=50).fit_resample(X_train_vec_for_knn, y_train_for_knn)\n",
    "\n",
    "# RandomOverSample\n",
    "X_train_over_for_knn_ros, y_train_over_for_knn_ros = RandomOverSampler().fit_resample(X_train_vec_for_knn, y_train_for_knn)\n",
    "\n",
    "# Вводим модельку knn\n",
    "model_knn = KNeighborsClassifier(n_neighbors=10)"
   ]
  },
  {
   "cell_type": "code",
   "execution_count": 122,
   "id": "2b48c9d5",
   "metadata": {},
   "outputs": [
    {
     "name": "stdout",
     "output_type": "stream",
     "text": [
      "Accuracy ( KNN + ADASYN ):  0.5210559396605908\n"
     ]
    }
   ],
   "source": [
    "# Тренируем и предсказываем\n",
    "model_knn.fit(X_train_over_for_knn_ada, y_train_over_for_knn_ada)\n",
    "y_preds_knn = model_knn.predict(X_test_vec_for_knn)\n",
    "score = accuracy_score(y_test_for_knn,y_preds_knn)\n",
    "print(\"Accuracy ( KNN + ADASYN ): \",score)"
   ]
  },
  {
   "cell_type": "code",
   "execution_count": 123,
   "id": "832d8cff",
   "metadata": {},
   "outputs": [
    {
     "name": "stdout",
     "output_type": "stream",
     "text": [
      "Accuracy ( KNN + RandomOverSample ):  0.6349465744814582\n"
     ]
    }
   ],
   "source": [
    "# Тренируем и предсказываем\n",
    "model_knn.fit(X_train_over_for_knn_ros, y_train_over_for_knn_ros)\n",
    "y_preds_knn = model_knn.predict(X_test_vec_for_knn)\n",
    "score = accuracy_score(y_test_for_knn,y_preds_knn)\n",
    "print(\"Accuracy ( KNN + RandomOverSample ): \",score)"
   ]
  },
  {
   "cell_type": "code",
   "execution_count": null,
   "id": "0e9670ee",
   "metadata": {},
   "outputs": [],
   "source": [
    "# Таким образом, наилучший результат XGB + ADASYN"
   ]
  }
 ],
 "metadata": {
  "kernelspec": {
   "display_name": "Python 3 (ipykernel)",
   "language": "python",
   "name": "python3"
  },
  "language_info": {
   "codemirror_mode": {
    "name": "ipython",
    "version": 3
   },
   "file_extension": ".py",
   "mimetype": "text/x-python",
   "name": "python",
   "nbconvert_exporter": "python",
   "pygments_lexer": "ipython3",
   "version": "3.10.9"
  }
 },
 "nbformat": 4,
 "nbformat_minor": 5
}
